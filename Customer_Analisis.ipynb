{
  "nbformat": 4,
  "nbformat_minor": 0,
  "metadata": {
    "colab": {
      "name": "Customer Analisis.ipynb",
      "provenance": [],
      "collapsed_sections": [],
      "authorship_tag": "ABX9TyPTECsF7zmPf5W2WQ2l87Lu",
      "include_colab_link": true
    },
    "kernelspec": {
      "name": "python3",
      "display_name": "Python 3"
    },
    "language_info": {
      "name": "python"
    }
  },
  "cells": [
    {
      "cell_type": "markdown",
      "metadata": {
        "id": "view-in-github",
        "colab_type": "text"
      },
      "source": [
        "<a href=\"https://colab.research.google.com/github/Falenbayu/Python/blob/main/Customer_Analisis.ipynb\" target=\"_parent\"><img src=\"https://colab.research.google.com/assets/colab-badge.svg\" alt=\"Open In Colab\"/></a>"
      ]
    },
    {
      "cell_type": "markdown",
      "metadata": {
        "id": "_H_qSiyj6mQm"
      },
      "source": [
        "#**Customer Analisis**\n",
        "\n",
        "    \n",
        "\n",
        "### Falen Bayu Adhetya\n",
        "\n",
        "email : falenbayu@gmail.com\n",
        "\n",
        "contact : 081234509236\n",
        "\n",
        "portofolio : https://github.com/falenbayu\n",
        "\n",
        "\n"
      ]
    },
    {
      "cell_type": "code",
      "metadata": {
        "colab": {
          "base_uri": "https://localhost:8080/"
        },
        "id": "cb1rsOAD6WWP",
        "outputId": "557e11b9-c68d-4050-99a0-892dfb9663ee"
      },
      "source": [
        "#import library yang diperlukan\n",
        "import pandas as pd\n",
        "import seaborn as sns\n",
        "import matplotlib.pyplot as plt\n",
        "import numpy as np\n",
        "import datetime as dt\n",
        "import missingno as msno\n",
        "from textwrap import wrap\n",
        "\n",
        "\n",
        "print(\"Hello World\")"
      ],
      "execution_count": 3,
      "outputs": [
        {
          "output_type": "stream",
          "text": [
            "Hello World\n"
          ],
          "name": "stdout"
        }
      ]
    }
  ]
}